{
 "cells": [
  {
   "cell_type": "markdown",
   "metadata": {
    "deletable": true,
    "editable": true
   },
   "source": [
    "# TV Script Generation\n",
    "In this project, you'll generate your own [Simpsons](https://en.wikipedia.org/wiki/The_Simpsons) TV scripts using RNNs.  You'll be using part of the [Simpsons dataset](https://www.kaggle.com/wcukierski/the-simpsons-by-the-data) of scripts from 27 seasons.  The Neural Network you'll build will generate a new TV script for a scene at [Moe's Tavern](https://simpsonswiki.com/wiki/Moe's_Tavern).\n",
    "## Get the Data\n",
    "The data is already provided for you.  You'll be using a subset of the original dataset.  It consists of only the scenes in Moe's Tavern.  This doesn't include other versions of the tavern, like \"Moe's Cavern\", \"Flaming Moe's\", \"Uncle Moe's Family Feed-Bag\", etc.."
   ]
  },
  {
   "cell_type": "code",
   "execution_count": 1,
   "metadata": {
    "collapsed": false,
    "deletable": true,
    "editable": true
   },
   "outputs": [],
   "source": [
    "\"\"\"\n",
    "DON'T MODIFY ANYTHING IN THIS CELL\n",
    "\"\"\"\n",
    "import helper\n",
    "\n",
    "data_dir = './data/simpsons/moes_tavern_lines.txt'\n",
    "text = helper.load_data(data_dir)\n",
    "# Ignore notice, since we don't use it for analysing the data\n",
    "text = text[81:]"
   ]
  },
  {
   "cell_type": "markdown",
   "metadata": {
    "deletable": true,
    "editable": true
   },
   "source": [
    "## Explore the Data\n",
    "Play around with `view_sentence_range` to view different parts of the data."
   ]
  },
  {
   "cell_type": "code",
   "execution_count": 2,
   "metadata": {
    "collapsed": false,
    "deletable": true,
    "editable": true
   },
   "outputs": [
    {
     "name": "stdout",
     "output_type": "stream",
     "text": [
      "Dataset Stats\n",
      "Roughly the number of unique words: 11492\n",
      "Number of scenes: 262\n",
      "Average number of sentences in each scene: 15.248091603053435\n",
      "Number of lines: 4257\n",
      "Average number of words in each line: 11.50434578341555\n",
      "\n",
      "The sentences 0 to 10:\n",
      "Moe_Szyslak: (INTO PHONE) Moe's Tavern. Where the elite meet to drink.\n",
      "Bart_Simpson: Eh, yeah, hello, is Mike there? Last name, Rotch.\n",
      "Moe_Szyslak: (INTO PHONE) Hold on, I'll check. (TO BARFLIES) Mike Rotch. Mike Rotch. Hey, has anybody seen Mike Rotch, lately?\n",
      "Moe_Szyslak: (INTO PHONE) Listen you little puke. One of these days I'm gonna catch you, and I'm gonna carve my name on your back with an ice pick.\n",
      "Moe_Szyslak: What's the matter Homer? You're not your normal effervescent self.\n",
      "Homer_Simpson: I got my problems, Moe. Give me another one.\n",
      "Moe_Szyslak: Homer, hey, you should not drink to forget your problems.\n",
      "Barney_Gumble: Yeah, you should only drink to enhance your social skills.\n",
      "\n",
      "\n"
     ]
    }
   ],
   "source": [
    "view_sentence_range = (0, 10)\n",
    "\n",
    "\"\"\"\n",
    "DON'T MODIFY ANYTHING IN THIS CELL\n",
    "\"\"\"\n",
    "import numpy as np\n",
    "\n",
    "print('Dataset Stats')\n",
    "print('Roughly the number of unique words: {}'.format(len({word: None for word in text.split()})))\n",
    "scenes = text.split('\\n\\n')\n",
    "print('Number of scenes: {}'.format(len(scenes)))\n",
    "sentence_count_scene = [scene.count('\\n') for scene in scenes]\n",
    "print('Average number of sentences in each scene: {}'.format(np.average(sentence_count_scene)))\n",
    "\n",
    "sentences = [sentence for scene in scenes for sentence in scene.split('\\n')]\n",
    "print('Number of lines: {}'.format(len(sentences)))\n",
    "word_count_sentence = [len(sentence.split()) for sentence in sentences]\n",
    "print('Average number of words in each line: {}'.format(np.average(word_count_sentence)))\n",
    "\n",
    "print()\n",
    "print('The sentences {} to {}:'.format(*view_sentence_range))\n",
    "print('\\n'.join(text.split('\\n')[view_sentence_range[0]:view_sentence_range[1]]))"
   ]
  },
  {
   "cell_type": "markdown",
   "metadata": {
    "deletable": true,
    "editable": true
   },
   "source": [
    "## Implement Preprocessing Functions\n",
    "The first thing to do to any dataset is preprocessing.  Implement the following preprocessing functions below:\n",
    "- Lookup Table\n",
    "- Tokenize Punctuation\n",
    "\n",
    "### Lookup Table\n",
    "To create a word embedding, you first need to transform the words to ids.  In this function, create two dictionaries:\n",
    "- Dictionary to go from the words to an id, we'll call `vocab_to_int`\n",
    "- Dictionary to go from the id to word, we'll call `int_to_vocab`\n",
    "\n",
    "Return these dictionaries in the following tuple `(vocab_to_int, int_to_vocab)`"
   ]
  },
  {
   "cell_type": "code",
   "execution_count": 3,
   "metadata": {
    "collapsed": false,
    "deletable": true,
    "editable": true
   },
   "outputs": [
    {
     "name": "stdout",
     "output_type": "stream",
     "text": [
      "Tests Passed\n"
     ]
    }
   ],
   "source": [
    "import numpy as np\n",
    "import problem_unittests as tests\n",
    "\n",
    "def create_lookup_tables(text):\n",
    "    \"\"\"\n",
    "    Create lookup tables for vocabulary\n",
    "    :param text: The text of tv scripts split into words\n",
    "    :return: A tuple of dicts (vocab_to_int, int_to_vocab)\n",
    "    \"\"\"\n",
    "    # TODO: Implement Function\n",
    "    vocab = set(text)\n",
    "    vocab_to_int = {c: i for i, c in enumerate(vocab)}\n",
    "    int_to_vocab = dict(enumerate(vocab))\n",
    "    \n",
    "    return vocab_to_int, int_to_vocab\n",
    "\n",
    "\"\"\"\n",
    "DON'T MODIFY ANYTHING IN THIS CELL THAT IS BELOW THIS LINE\n",
    "\"\"\"\n",
    "tests.test_create_lookup_tables(create_lookup_tables)"
   ]
  },
  {
   "cell_type": "markdown",
   "metadata": {
    "deletable": true,
    "editable": true
   },
   "source": [
    "### Tokenize Punctuation\n",
    "We'll be splitting the script into a word array using spaces as delimiters.  However, punctuations like periods and exclamation marks make it hard for the neural network to distinguish between the word \"bye\" and \"bye!\".\n",
    "\n",
    "Implement the function `token_lookup` to return a dict that will be used to tokenize symbols like \"!\" into \"||Exclamation_Mark||\".  Create a dictionary for the following symbols where the symbol is the key and value is the token:\n",
    "- Period ( . )\n",
    "- Comma ( , )\n",
    "- Quotation Mark ( \" )\n",
    "- Semicolon ( ; )\n",
    "- Exclamation mark ( ! )\n",
    "- Question mark ( ? )\n",
    "- Left Parentheses ( ( )\n",
    "- Right Parentheses ( ) )\n",
    "- Dash ( -- )\n",
    "- Return ( \\n )\n",
    "\n",
    "This dictionary will be used to token the symbols and add the delimiter (space) around it.  This separates the symbols as it's own word, making it easier for the neural network to predict on the next word. Make sure you don't use a token that could be confused as a word. Instead of using the token \"dash\", try using something like \"||dash||\"."
   ]
  },
  {
   "cell_type": "code",
   "execution_count": 4,
   "metadata": {
    "collapsed": false,
    "deletable": true,
    "editable": true
   },
   "outputs": [
    {
     "name": "stdout",
     "output_type": "stream",
     "text": [
      "Tests Passed\n"
     ]
    }
   ],
   "source": [
    "def token_lookup():\n",
    "    \"\"\"\n",
    "    Generate a dict to turn punctuation into a token.\n",
    "    :return: Tokenize dictionary where the key is the punctuation and the value is the token\n",
    "    \"\"\"\n",
    "    # TODO: Implement Function\n",
    "    puntuation_dict={}\n",
    "    puntuation_dict[\".\"] = \"||Period||\"\n",
    "    puntuation_dict[\",\"] = \"||Comma||\"\n",
    "    puntuation_dict['\"'] = \"||Quotation_Mark||\"\n",
    "    puntuation_dict[\";\"] = \"||Semicolon||\"\n",
    "    puntuation_dict[\"!\"] = \"||Exclamation_Mark||\"\n",
    "    puntuation_dict[\"?\"] = \"||Question_Mark||\"\n",
    "    puntuation_dict[\"(\"] = \"||Left_Parentheses||\"\n",
    "    puntuation_dict[\")\"] = \"||Right_Parentheses||\"\n",
    "    puntuation_dict[\"--\"] = \"||Dash||\"\n",
    "    puntuation_dict[\"\\n\"] = \"||Return||\"\n",
    "    return puntuation_dict\n",
    "\n",
    "\"\"\"\n",
    "DON'T MODIFY ANYTHING IN THIS CELL THAT IS BELOW THIS LINE\n",
    "\"\"\"\n",
    "tests.test_tokenize(token_lookup)"
   ]
  },
  {
   "cell_type": "markdown",
   "metadata": {
    "deletable": true,
    "editable": true
   },
   "source": [
    "## Preprocess all the data and save it\n",
    "Running the code cell below will preprocess all the data and save it to file."
   ]
  },
  {
   "cell_type": "code",
   "execution_count": 5,
   "metadata": {
    "collapsed": false,
    "deletable": true,
    "editable": true
   },
   "outputs": [],
   "source": [
    "\"\"\"\n",
    "DON'T MODIFY ANYTHING IN THIS CELL\n",
    "\"\"\"\n",
    "# Preprocess Training, Validation, and Testing Data\n",
    "helper.preprocess_and_save_data(data_dir, token_lookup, create_lookup_tables)"
   ]
  },
  {
   "cell_type": "markdown",
   "metadata": {
    "deletable": true,
    "editable": true
   },
   "source": [
    "# Check Point\n",
    "This is your first checkpoint. If you ever decide to come back to this notebook or have to restart the notebook, you can start from here. The preprocessed data has been saved to disk."
   ]
  },
  {
   "cell_type": "code",
   "execution_count": 6,
   "metadata": {
    "collapsed": false,
    "deletable": true,
    "editable": true
   },
   "outputs": [],
   "source": [
    "\"\"\"\n",
    "DON'T MODIFY ANYTHING IN THIS CELL\n",
    "\"\"\"\n",
    "import helper\n",
    "import numpy as np\n",
    "import problem_unittests as tests\n",
    "\n",
    "int_text, vocab_to_int, int_to_vocab, token_dict = helper.load_preprocess()"
   ]
  },
  {
   "cell_type": "markdown",
   "metadata": {
    "deletable": true,
    "editable": true
   },
   "source": [
    "## Build the Neural Network\n",
    "You'll build the components necessary to build a RNN by implementing the following functions below:\n",
    "- get_inputs\n",
    "- get_init_cell\n",
    "- get_embed\n",
    "- build_rnn\n",
    "- build_nn\n",
    "- get_batches\n",
    "\n",
    "### Check the Version of TensorFlow and Access to GPU"
   ]
  },
  {
   "cell_type": "code",
   "execution_count": 7,
   "metadata": {
    "collapsed": false,
    "deletable": true,
    "editable": true
   },
   "outputs": [
    {
     "name": "stdout",
     "output_type": "stream",
     "text": [
      "TensorFlow Version: 1.0.0\n",
      "Default GPU Device: /gpu:0\n"
     ]
    }
   ],
   "source": [
    "\"\"\"\n",
    "DON'T MODIFY ANYTHING IN THIS CELL\n",
    "\"\"\"\n",
    "from distutils.version import LooseVersion\n",
    "import warnings\n",
    "import tensorflow as tf\n",
    "\n",
    "# Check TensorFlow Version\n",
    "assert LooseVersion(tf.__version__) >= LooseVersion('1.0'), 'Please use TensorFlow version 1.0 or newer'\n",
    "print('TensorFlow Version: {}'.format(tf.__version__))\n",
    "\n",
    "# Check for a GPU\n",
    "if not tf.test.gpu_device_name():\n",
    "    warnings.warn('No GPU found. Please use a GPU to train your neural network.')\n",
    "else:\n",
    "    print('Default GPU Device: {}'.format(tf.test.gpu_device_name()))"
   ]
  },
  {
   "cell_type": "markdown",
   "metadata": {
    "deletable": true,
    "editable": true
   },
   "source": [
    "### Input\n",
    "Implement the `get_inputs()` function to create TF Placeholders for the Neural Network.  It should create the following placeholders:\n",
    "- Input text placeholder named \"input\" using the [TF Placeholder](https://www.tensorflow.org/api_docs/python/tf/placeholder) `name` parameter.\n",
    "- Targets placeholder\n",
    "- Learning Rate placeholder\n",
    "\n",
    "Return the placeholders in the following the tuple `(Input, Targets, LearingRate)`"
   ]
  },
  {
   "cell_type": "code",
   "execution_count": 8,
   "metadata": {
    "collapsed": false,
    "deletable": true,
    "editable": true
   },
   "outputs": [
    {
     "name": "stdout",
     "output_type": "stream",
     "text": [
      "Tests Passed\n"
     ]
    }
   ],
   "source": [
    "def get_inputs():\n",
    "    \"\"\"\n",
    "    Create TF Placeholders for input, targets, and learning rate.\n",
    "    :return: Tuple (input, targets, learning rate)\n",
    "    \"\"\"\n",
    "    # TODO: Implement Function\n",
    "    input_data = tf.placeholder(tf.int32, shape=(None,None), name=\"input\")\n",
    "    targets =tf.placeholder(tf.int32, shape=(None,None))\n",
    "    learning_rate =tf.placeholder(tf.float32, shape=None)\n",
    "    return (input_data, targets, learning_rate)\n",
    "\n",
    "\"\"\"\n",
    "DON'T MODIFY ANYTHING IN THIS CELL THAT IS BELOW THIS LINE\n",
    "\"\"\"\n",
    "tests.test_get_inputs(get_inputs)"
   ]
  },
  {
   "cell_type": "markdown",
   "metadata": {
    "deletable": true,
    "editable": true
   },
   "source": [
    "### Build RNN Cell and Initialize\n",
    "Stack one or more [`BasicLSTMCells`](https://www.tensorflow.org/api_docs/python/tf/contrib/rnn/BasicLSTMCell) in a [`MultiRNNCell`](https://www.tensorflow.org/api_docs/python/tf/contrib/rnn/MultiRNNCell).\n",
    "- The Rnn size should be set using `rnn_size`\n",
    "- Initalize Cell State using the MultiRNNCell's [`zero_state()`](https://www.tensorflow.org/api_docs/python/tf/contrib/rnn/MultiRNNCell#zero_state) function\n",
    "    - Apply the name \"initial_state\" to the initial state using [`tf.identity()`](https://www.tensorflow.org/api_docs/python/tf/identity)\n",
    "\n",
    "Return the cell and initial state in the following tuple `(Cell, InitialState)`"
   ]
  },
  {
   "cell_type": "code",
   "execution_count": 20,
   "metadata": {
    "collapsed": false,
    "deletable": true,
    "editable": true
   },
   "outputs": [
    {
     "name": "stdout",
     "output_type": "stream",
     "text": [
      "Tests Passed\n"
     ]
    }
   ],
   "source": [
    "def get_init_cell(batch_size, rnn_size):\n",
    "    \"\"\"\n",
    "    Create an RNN Cell and initialize it.\n",
    "    :param batch_size: Size of batches\n",
    "    :param rnn_size: Size of RNNs\n",
    "    :return: Tuple (cell, initialize state)\n",
    "    \"\"\"\n",
    "    # TODO: Implement Function\n",
    "    lstm = tf.contrib.rnn.BasicLSTMCell(rnn_size)\n",
    "   \n",
    "   \n",
    "    cell = tf.contrib.rnn.MultiRNNCell([lstm])\n",
    "    \n",
    "    return cell, tf.identity(cell.zero_state(batch_size, tf.float32), name=\"initial_state\")\n",
    "\n",
    "\n",
    "\"\"\"\n",
    "DON'T MODIFY ANYTHING IN THIS CELL THAT IS BELOW THIS LINE\n",
    "\"\"\"\n",
    "tests.test_get_init_cell(get_init_cell)"
   ]
  },
  {
   "cell_type": "markdown",
   "metadata": {
    "deletable": true,
    "editable": true
   },
   "source": [
    "### Word Embedding\n",
    "Apply embedding to `input_data` using TensorFlow.  Return the embedded sequence."
   ]
  },
  {
   "cell_type": "code",
   "execution_count": 21,
   "metadata": {
    "collapsed": false,
    "deletable": true,
    "editable": true
   },
   "outputs": [
    {
     "name": "stdout",
     "output_type": "stream",
     "text": [
      "Tests Passed\n"
     ]
    }
   ],
   "source": [
    "def get_embed(input_data, vocab_size, embed_dim):\n",
    "    \"\"\"\n",
    "    Create embedding for <input_data>.\n",
    "    :param input_data: TF placeholder for text input.\n",
    "    :param vocab_size: Number of words in vocabulary.\n",
    "    :param embed_dim: Number of embedding dimensions\n",
    "    :return: Embedded input.\n",
    "    \"\"\"\n",
    "    # TODO: Implement Function\n",
    "    embeddings = tf.Variable(tf.random_uniform([vocab_size, embed_dim], -1.0, 1.0))\n",
    "    return tf.nn.embedding_lookup(embeddings,input_data)\n",
    "\n",
    "\n",
    "\n",
    "\"\"\"\n",
    "DON'T MODIFY ANYTHING IN THIS CELL THAT IS BELOW THIS LINE\n",
    "\"\"\"\n",
    "tests.test_get_embed(get_embed)"
   ]
  },
  {
   "cell_type": "markdown",
   "metadata": {
    "deletable": true,
    "editable": true
   },
   "source": [
    "### Build RNN\n",
    "You created a RNN Cell in the `get_init_cell()` function.  Time to use the cell to create a RNN.\n",
    "- Build the RNN using the [`tf.nn.dynamic_rnn()`](https://www.tensorflow.org/api_docs/python/tf/nn/dynamic_rnn)\n",
    " - Apply the name \"final_state\" to the final state using [`tf.identity()`](https://www.tensorflow.org/api_docs/python/tf/identity)\n",
    "\n",
    "Return the outputs and final_state state in the following tuple `(Outputs, FinalState)` "
   ]
  },
  {
   "cell_type": "code",
   "execution_count": 22,
   "metadata": {
    "collapsed": false,
    "deletable": true,
    "editable": true
   },
   "outputs": [
    {
     "name": "stdout",
     "output_type": "stream",
     "text": [
      "Tests Passed\n"
     ]
    }
   ],
   "source": [
    "def build_rnn(cell, inputs):\n",
    "    \"\"\"\n",
    "    Create a RNN using a RNN Cell\n",
    "    :param cell: RNN Cell\n",
    "    :param inputs: Input text data\n",
    "    :return: Tuple (Outputs, Final State)\n",
    "    \"\"\"\n",
    "    # TODO: Implement Function\n",
    "    Outputs, FinalState = tf.nn.dynamic_rnn(cell,inputs=inputs,dtype=tf.float32)\n",
    "    return Outputs, tf.identity(FinalState,name=\"final_state\")\n",
    "\n",
    "\n",
    "\"\"\"\n",
    "DON'T MODIFY ANYTHING IN THIS CELL THAT IS BELOW THIS LINE\n",
    "\"\"\"\n",
    "tests.test_build_rnn(build_rnn)"
   ]
  },
  {
   "cell_type": "markdown",
   "metadata": {
    "deletable": true,
    "editable": true
   },
   "source": [
    "### Build the Neural Network\n",
    "Apply the functions you implemented above to:\n",
    "- Apply embedding to `input_data` using your `get_embed(input_data, vocab_size, embed_dim)` function.\n",
    "- Build RNN using `cell` and your `build_rnn(cell, inputs)` function.\n",
    "- Apply a fully connected layer with a linear activation and `vocab_size` as the number of outputs.\n",
    "\n",
    "Return the logits and final state in the following tuple (Logits, FinalState) "
   ]
  },
  {
   "cell_type": "code",
   "execution_count": 23,
   "metadata": {
    "collapsed": false,
    "deletable": true,
    "editable": true
   },
   "outputs": [
    {
     "name": "stdout",
     "output_type": "stream",
     "text": [
      "Tests Passed\n"
     ]
    }
   ],
   "source": [
    "def build_nn(cell, rnn_size, input_data, vocab_size):\n",
    "    \"\"\"\n",
    "    Build part of the neural network\n",
    "    :param cell: RNN cell\n",
    "    :param rnn_size: Size of rnns\n",
    "    :param input_data: Input data\n",
    "    :param vocab_size: Vocabulary size\n",
    "    :return: Tuple (Logits, FinalState)\n",
    "    \"\"\"\n",
    "    # TODO: Implement Function\n",
    "    embed = get_embed(input_data,vocab_size,rnn_size)\n",
    "    rnn = build_rnn(cell,embed)\n",
    "    logits = tf.contrib.layers.fully_connected(rnn[0], vocab_size, activation_fn=None)\n",
    "    \n",
    "    return logits, rnn[1]\n",
    "\n",
    "\n",
    "\"\"\"\n",
    "DON'T MODIFY ANYTHING IN THIS CELL THAT IS BELOW THIS LINE\n",
    "\"\"\"\n",
    "tests.test_build_nn(build_nn)"
   ]
  },
  {
   "cell_type": "markdown",
   "metadata": {
    "deletable": true,
    "editable": true
   },
   "source": [
    "### Batches\n",
    "Implement `get_batches` to create batches of input and targets using `int_text`.  The batches should be a Numpy array with the shape `(number of batches, 2, batch size, sequence length)`. Each batch contains two elements:\n",
    "- The first element is a single batch of **input** with the shape `[batch size, sequence length]`\n",
    "- The second element is a single batch of **targets** with the shape `[batch size, sequence length]`\n",
    "\n",
    "If you can't fill the last batch with enough data, drop the last batch.\n",
    "\n",
    "For exmple, `get_batches([1, 2, 3, 4, 5, 6, 7, 8, 9, 10, 11, 12, 13, 14, 15], 2, 3)` would return a Numpy array of the following:\n",
    "```\n",
    "[\n",
    "  # First Batch\n",
    "  [\n",
    "    # Batch of Input\n",
    "    [[ 1  2  3], [ 7  8  9]],\n",
    "    # Batch of targets\n",
    "    [[ 2  3  4], [ 8  9 10]]\n",
    "  ],\n",
    " \n",
    "  # Second Batch\n",
    "  [\n",
    "    # Batch of Input\n",
    "    [[ 4  5  6], [10 11 12]],\n",
    "    # Batch of targets\n",
    "    [[ 5  6  7], [11 12 13]]\n",
    "  ]\n",
    "]\n",
    "```"
   ]
  },
  {
   "cell_type": "code",
   "execution_count": 24,
   "metadata": {
    "collapsed": false,
    "deletable": true,
    "editable": true
   },
   "outputs": [
    {
     "name": "stdout",
     "output_type": "stream",
     "text": [
      "Tests Passed\n"
     ]
    }
   ],
   "source": [
    "def get_batches(int_text, batch_size, seq_length):\n",
    "    \"\"\"\n",
    "    Return batches of input and target\n",
    "    :param int_text: Text with the words replaced by their ids\n",
    "    :param batch_size: The size of batch\n",
    "    :param seq_length: The length of sequence\n",
    "    :return: Batches as a Numpy array\n",
    "    \"\"\"\n",
    "    # TODO: Implement Function\n",
    "    slice_size = batch_size * seq_length\n",
    "    n_batches = int(len(int_text) / slice_size)\n",
    "    input_x = np.array(int_text[: n_batches*slice_size])\n",
    "    target = np.array(int_text[1: n_batches*slice_size + 1])\n",
    "    input_x = np.stack(np.split(input_x, batch_size))   \n",
    "    target = np.stack(np.split(target, batch_size))\n",
    "    final_stack = []\n",
    "    \n",
    "    pointer =0;\n",
    "    pointer_target=1;\n",
    "    for cnt in range(n_batches):\n",
    "        some_input =[]\n",
    "        some_target =[]\n",
    "        current_batch =[]\n",
    "        for batch in input_x:\n",
    "            some_input.append(batch[pointer:pointer+seq_length])\n",
    "            \n",
    "        for t_batch in target:\n",
    "            some_target.append(t_batch[pointer:pointer+seq_length])\n",
    "        \n",
    "        current_batch.append(some_input)\n",
    "        current_batch.append(some_target)\n",
    "        pointer +=seq_length\n",
    "        final_stack.append(current_batch)\n",
    "   \n",
    "    Batches =np.array(final_stack)\n",
    "    return Batches\n",
    "\n",
    "\n",
    "\"\"\"\n",
    "DON'T MODIFY ANYTHING IN THIS CELL THAT IS BELOW THIS LINE\n",
    "\"\"\"\n",
    "tests.test_get_batches(get_batches)"
   ]
  },
  {
   "cell_type": "markdown",
   "metadata": {
    "deletable": true,
    "editable": true
   },
   "source": [
    "## Neural Network Training\n",
    "### Hyperparameters\n",
    "Tune the following parameters:\n",
    "\n",
    "- Set `num_epochs` to the number of epochs.\n",
    "- Set `batch_size` to the batch size.\n",
    "- Set `rnn_size` to the size of the RNNs.\n",
    "- Set `seq_length` to the length of sequence.\n",
    "- Set `learning_rate` to the learning rate.\n",
    "- Set `show_every_n_batches` to the number of batches the neural network should print progress."
   ]
  },
  {
   "cell_type": "code",
   "execution_count": 49,
   "metadata": {
    "collapsed": true,
    "deletable": true,
    "editable": true
   },
   "outputs": [],
   "source": [
    "# Number of Epochs\n",
    "num_epochs = 100\n",
    "# Batch Size\n",
    "batch_size = 1000\n",
    "# RNN Size\n",
    "rnn_size = 500\n",
    "# Sequence Length\n",
    "seq_length = 5\n",
    "# Learning Rate\n",
    "learning_rate = 0.001\n",
    "# Show stats for every n number of batches\n",
    "show_every_n_batches =3\n",
    "\n",
    "\n",
    "\"\"\"\n",
    "DON'T MODIFY ANYTHING IN THIS CELL THAT IS BELOW THIS LINE\n",
    "\"\"\"\n",
    "save_dir = './save'"
   ]
  },
  {
   "cell_type": "markdown",
   "metadata": {
    "deletable": true,
    "editable": true
   },
   "source": [
    "### Build the Graph\n",
    "Build the graph using the neural network you implemented."
   ]
  },
  {
   "cell_type": "code",
   "execution_count": 50,
   "metadata": {
    "collapsed": false,
    "deletable": true,
    "editable": true
   },
   "outputs": [],
   "source": [
    "\"\"\"\n",
    "DON'T MODIFY ANYTHING IN THIS CELL\n",
    "\"\"\"\n",
    "from tensorflow.contrib import seq2seq\n",
    "\n",
    "train_graph = tf.Graph()\n",
    "with train_graph.as_default():\n",
    "    vocab_size = len(int_to_vocab)\n",
    "    input_text, targets, lr = get_inputs()\n",
    "    input_data_shape = tf.shape(input_text)\n",
    "    cell, initial_state = get_init_cell(input_data_shape[0], rnn_size)\n",
    "    logits, final_state = build_nn(cell, rnn_size, input_text, vocab_size)\n",
    "\n",
    "    # Probabilities for generating words\n",
    "    probs = tf.nn.softmax(logits, name='probs')\n",
    "\n",
    "    # Loss function\n",
    "    cost = seq2seq.sequence_loss(\n",
    "        logits,\n",
    "        targets,\n",
    "        tf.ones([input_data_shape[0], input_data_shape[1]]))\n",
    "\n",
    "    # Optimizer\n",
    "    optimizer = tf.train.AdamOptimizer(lr)\n",
    "\n",
    "    # Gradient Clipping\n",
    "    gradients = optimizer.compute_gradients(cost)\n",
    "    capped_gradients = [(tf.clip_by_value(grad, -1., 1.), var) for grad, var in gradients]\n",
    "    train_op = optimizer.apply_gradients(capped_gradients)"
   ]
  },
  {
   "cell_type": "markdown",
   "metadata": {
    "deletable": true,
    "editable": true
   },
   "source": [
    "## Train\n",
    "Train the neural network on the preprocessed data.  If you have a hard time getting a good loss, check the [forms](https://discussions.udacity.com/) to see if anyone is having the same problem."
   ]
  },
  {
   "cell_type": "code",
   "execution_count": 51,
   "metadata": {
    "collapsed": false,
    "deletable": true,
    "editable": true
   },
   "outputs": [
    {
     "name": "stdout",
     "output_type": "stream",
     "text": [
      "100\n",
      "Epoch   0 Batch    0/13   train_loss = 8.822\n",
      "Epoch   0 Batch    3/13   train_loss = 8.650\n",
      "Epoch   0 Batch    6/13   train_loss = 8.229\n",
      "Epoch   0 Batch    9/13   train_loss = 7.558\n",
      "Epoch   0 Batch   12/13   train_loss = 6.932\n",
      "Epoch   1 Batch    2/13   train_loss = 6.614\n",
      "Epoch   1 Batch    5/13   train_loss = 6.549\n",
      "Epoch   1 Batch    8/13   train_loss = 6.291\n",
      "Epoch   1 Batch   11/13   train_loss = 6.187\n",
      "Epoch   2 Batch    1/13   train_loss = 6.038\n",
      "Epoch   2 Batch    4/13   train_loss = 5.980\n",
      "Epoch   2 Batch    7/13   train_loss = 5.849\n",
      "Epoch   2 Batch   10/13   train_loss = 5.816\n",
      "Epoch   3 Batch    0/13   train_loss = 5.760\n",
      "Epoch   3 Batch    3/13   train_loss = 5.704\n",
      "Epoch   3 Batch    6/13   train_loss = 5.552\n",
      "Epoch   3 Batch    9/13   train_loss = 5.572\n",
      "Epoch   3 Batch   12/13   train_loss = 5.538\n",
      "Epoch   4 Batch    2/13   train_loss = 5.403\n",
      "Epoch   4 Batch    5/13   train_loss = 5.363\n",
      "Epoch   4 Batch    8/13   train_loss = 5.221\n",
      "Epoch   4 Batch   11/13   train_loss = 5.292\n",
      "Epoch   5 Batch    1/13   train_loss = 5.230\n",
      "Epoch   5 Batch    4/13   train_loss = 5.192\n",
      "Epoch   5 Batch    7/13   train_loss = 5.098\n",
      "Epoch   5 Batch   10/13   train_loss = 5.126\n",
      "Epoch   6 Batch    0/13   train_loss = 5.102\n",
      "Epoch   6 Batch    3/13   train_loss = 5.082\n",
      "Epoch   6 Batch    6/13   train_loss = 4.972\n",
      "Epoch   6 Batch    9/13   train_loss = 4.983\n",
      "Epoch   6 Batch   12/13   train_loss = 5.001\n",
      "Epoch   7 Batch    2/13   train_loss = 4.863\n",
      "Epoch   7 Batch    5/13   train_loss = 4.860\n",
      "Epoch   7 Batch    8/13   train_loss = 4.717\n",
      "Epoch   7 Batch   11/13   train_loss = 4.795\n",
      "Epoch   8 Batch    1/13   train_loss = 4.759\n",
      "Epoch   8 Batch    4/13   train_loss = 4.727\n",
      "Epoch   8 Batch    7/13   train_loss = 4.632\n",
      "Epoch   8 Batch   10/13   train_loss = 4.681\n",
      "Epoch   9 Batch    0/13   train_loss = 4.660\n",
      "Epoch   9 Batch    3/13   train_loss = 4.652\n",
      "Epoch   9 Batch    6/13   train_loss = 4.566\n",
      "Epoch   9 Batch    9/13   train_loss = 4.572\n",
      "Epoch   9 Batch   12/13   train_loss = 4.595\n",
      "Epoch  10 Batch    2/13   train_loss = 4.465\n",
      "Epoch  10 Batch    5/13   train_loss = 4.482\n",
      "Epoch  10 Batch    8/13   train_loss = 4.350\n",
      "Epoch  10 Batch   11/13   train_loss = 4.411\n",
      "Epoch  11 Batch    1/13   train_loss = 4.398\n",
      "Epoch  11 Batch    4/13   train_loss = 4.360\n",
      "Epoch  11 Batch    7/13   train_loss = 4.270\n",
      "Epoch  11 Batch   10/13   train_loss = 4.327\n",
      "Epoch  12 Batch    0/13   train_loss = 4.308\n",
      "Epoch  12 Batch    3/13   train_loss = 4.307\n",
      "Epoch  12 Batch    6/13   train_loss = 4.230\n",
      "Epoch  12 Batch    9/13   train_loss = 4.241\n",
      "Epoch  12 Batch   12/13   train_loss = 4.258\n",
      "Epoch  13 Batch    2/13   train_loss = 4.143\n",
      "Epoch  13 Batch    5/13   train_loss = 4.161\n",
      "Epoch  13 Batch    8/13   train_loss = 4.043\n",
      "Epoch  13 Batch   11/13   train_loss = 4.092\n",
      "Epoch  14 Batch    1/13   train_loss = 4.091\n",
      "Epoch  14 Batch    4/13   train_loss = 4.048\n",
      "Epoch  14 Batch    7/13   train_loss = 3.969\n",
      "Epoch  14 Batch   10/13   train_loss = 4.023\n",
      "Epoch  15 Batch    0/13   train_loss = 4.004\n",
      "Epoch  15 Batch    3/13   train_loss = 4.008\n",
      "Epoch  15 Batch    6/13   train_loss = 3.939\n",
      "Epoch  15 Batch    9/13   train_loss = 3.958\n",
      "Epoch  15 Batch   12/13   train_loss = 3.967\n",
      "Epoch  16 Batch    2/13   train_loss = 3.867\n",
      "Epoch  16 Batch    5/13   train_loss = 3.878\n",
      "Epoch  16 Batch    8/13   train_loss = 3.769\n",
      "Epoch  16 Batch   11/13   train_loss = 3.813\n",
      "Epoch  17 Batch    1/13   train_loss = 3.815\n",
      "Epoch  17 Batch    4/13   train_loss = 3.774\n",
      "Epoch  17 Batch    7/13   train_loss = 3.702\n",
      "Epoch  17 Batch   10/13   train_loss = 3.755\n",
      "Epoch  18 Batch    0/13   train_loss = 3.732\n",
      "Epoch  18 Batch    3/13   train_loss = 3.738\n",
      "Epoch  18 Batch    6/13   train_loss = 3.681\n",
      "Epoch  18 Batch    9/13   train_loss = 3.696\n",
      "Epoch  18 Batch   12/13   train_loss = 3.711\n",
      "Epoch  19 Batch    2/13   train_loss = 3.614\n",
      "Epoch  19 Batch    5/13   train_loss = 3.628\n",
      "Epoch  19 Batch    8/13   train_loss = 3.522\n",
      "Epoch  19 Batch   11/13   train_loss = 3.564\n",
      "Epoch  20 Batch    1/13   train_loss = 3.565\n",
      "Epoch  20 Batch    4/13   train_loss = 3.519\n",
      "Epoch  20 Batch    7/13   train_loss = 3.472\n",
      "Epoch  20 Batch   10/13   train_loss = 3.502\n",
      "Epoch  21 Batch    0/13   train_loss = 3.495\n",
      "Epoch  21 Batch    3/13   train_loss = 3.485\n",
      "Epoch  21 Batch    6/13   train_loss = 3.446\n",
      "Epoch  21 Batch    9/13   train_loss = 3.465\n",
      "Epoch  21 Batch   12/13   train_loss = 3.464\n",
      "Epoch  22 Batch    2/13   train_loss = 3.393\n",
      "Epoch  22 Batch    5/13   train_loss = 3.383\n",
      "Epoch  22 Batch    8/13   train_loss = 3.297\n",
      "Epoch  22 Batch   11/13   train_loss = 3.330\n",
      "Epoch  23 Batch    1/13   train_loss = 3.321\n",
      "Epoch  23 Batch    4/13   train_loss = 3.284\n",
      "Epoch  23 Batch    7/13   train_loss = 3.230\n",
      "Epoch  23 Batch   10/13   train_loss = 3.272\n",
      "Epoch  24 Batch    0/13   train_loss = 3.241\n",
      "Epoch  24 Batch    3/13   train_loss = 3.241\n",
      "Epoch  24 Batch    6/13   train_loss = 3.207\n",
      "Epoch  24 Batch    9/13   train_loss = 3.220\n",
      "Epoch  24 Batch   12/13   train_loss = 3.226\n",
      "Epoch  25 Batch    2/13   train_loss = 3.150\n",
      "Epoch  25 Batch    5/13   train_loss = 3.144\n",
      "Epoch  25 Batch    8/13   train_loss = 3.069\n",
      "Epoch  25 Batch   11/13   train_loss = 3.094\n",
      "Epoch  26 Batch    1/13   train_loss = 3.082\n",
      "Epoch  26 Batch    4/13   train_loss = 3.042\n",
      "Epoch  26 Batch    7/13   train_loss = 3.011\n",
      "Epoch  26 Batch   10/13   train_loss = 3.030\n",
      "Epoch  27 Batch    0/13   train_loss = 3.007\n",
      "Epoch  27 Batch    3/13   train_loss = 3.006\n",
      "Epoch  27 Batch    6/13   train_loss = 2.978\n",
      "Epoch  27 Batch    9/13   train_loss = 3.002\n",
      "Epoch  27 Batch   12/13   train_loss = 2.991\n",
      "Epoch  28 Batch    2/13   train_loss = 2.939\n",
      "Epoch  28 Batch    5/13   train_loss = 2.918\n",
      "Epoch  28 Batch    8/13   train_loss = 2.864\n",
      "Epoch  28 Batch   11/13   train_loss = 2.882\n",
      "Epoch  29 Batch    1/13   train_loss = 2.864\n",
      "Epoch  29 Batch    4/13   train_loss = 2.830\n",
      "Epoch  29 Batch    7/13   train_loss = 2.800\n",
      "Epoch  29 Batch   10/13   train_loss = 2.828\n",
      "Epoch  30 Batch    0/13   train_loss = 2.788\n",
      "Epoch  30 Batch    3/13   train_loss = 2.806\n",
      "Epoch  30 Batch    6/13   train_loss = 2.775\n",
      "Epoch  30 Batch    9/13   train_loss = 2.802\n",
      "Epoch  30 Batch   12/13   train_loss = 2.798\n",
      "Epoch  31 Batch    2/13   train_loss = 2.735\n",
      "Epoch  31 Batch    5/13   train_loss = 2.735\n",
      "Epoch  31 Batch    8/13   train_loss = 2.668\n",
      "Epoch  31 Batch   11/13   train_loss = 2.700\n",
      "Epoch  32 Batch    1/13   train_loss = 2.667\n",
      "Epoch  32 Batch    4/13   train_loss = 2.637\n",
      "Epoch  32 Batch    7/13   train_loss = 2.623\n",
      "Epoch  32 Batch   10/13   train_loss = 2.627\n",
      "Epoch  33 Batch    0/13   train_loss = 2.615\n",
      "Epoch  33 Batch    3/13   train_loss = 2.595\n",
      "Epoch  33 Batch    6/13   train_loss = 2.602\n",
      "Epoch  33 Batch    9/13   train_loss = 2.618\n",
      "Epoch  33 Batch   12/13   train_loss = 2.607\n",
      "Epoch  34 Batch    2/13   train_loss = 2.567\n",
      "Epoch  34 Batch    5/13   train_loss = 2.540\n",
      "Epoch  34 Batch    8/13   train_loss = 2.506\n",
      "Epoch  34 Batch   11/13   train_loss = 2.511\n",
      "Epoch  35 Batch    1/13   train_loss = 2.493\n",
      "Epoch  35 Batch    4/13   train_loss = 2.456\n",
      "Epoch  35 Batch    7/13   train_loss = 2.442\n",
      "Epoch  35 Batch   10/13   train_loss = 2.456\n",
      "Epoch  36 Batch    0/13   train_loss = 2.422\n",
      "Epoch  36 Batch    3/13   train_loss = 2.426\n",
      "Epoch  36 Batch    6/13   train_loss = 2.413\n",
      "Epoch  36 Batch    9/13   train_loss = 2.451\n",
      "Epoch  36 Batch   12/13   train_loss = 2.429\n",
      "Epoch  37 Batch    2/13   train_loss = 2.391\n",
      "Epoch  37 Batch    5/13   train_loss = 2.382\n",
      "Epoch  37 Batch    8/13   train_loss = 2.327\n",
      "Epoch  37 Batch   11/13   train_loss = 2.353\n",
      "Epoch  38 Batch    1/13   train_loss = 2.318\n",
      "Epoch  38 Batch    4/13   train_loss = 2.295\n",
      "Epoch  38 Batch    7/13   train_loss = 2.273\n",
      "Epoch  38 Batch   10/13   train_loss = 2.278\n",
      "Epoch  39 Batch    0/13   train_loss = 2.261\n",
      "Epoch  39 Batch    3/13   train_loss = 2.250\n",
      "Epoch  39 Batch    6/13   train_loss = 2.257\n",
      "Epoch  39 Batch    9/13   train_loss = 2.282\n",
      "Epoch  39 Batch   12/13   train_loss = 2.262\n",
      "Epoch  40 Batch    2/13   train_loss = 2.231\n",
      "Epoch  40 Batch    5/13   train_loss = 2.212\n",
      "Epoch  40 Batch    8/13   train_loss = 2.178\n",
      "Epoch  40 Batch   11/13   train_loss = 2.181\n",
      "Epoch  41 Batch    1/13   train_loss = 2.163\n",
      "Epoch  41 Batch    4/13   train_loss = 2.134\n",
      "Epoch  41 Batch    7/13   train_loss = 2.116\n",
      "Epoch  41 Batch   10/13   train_loss = 2.126\n",
      "Epoch  42 Batch    0/13   train_loss = 2.103\n",
      "Epoch  42 Batch    3/13   train_loss = 2.093\n",
      "Epoch  42 Batch    6/13   train_loss = 2.111\n",
      "Epoch  42 Batch    9/13   train_loss = 2.129\n",
      "Epoch  42 Batch   12/13   train_loss = 2.118\n",
      "Epoch  43 Batch    2/13   train_loss = 2.086\n",
      "Epoch  43 Batch    5/13   train_loss = 2.070\n",
      "Epoch  43 Batch    8/13   train_loss = 2.044\n",
      "Epoch  43 Batch   11/13   train_loss = 2.033\n",
      "Epoch  44 Batch    1/13   train_loss = 2.028\n",
      "Epoch  44 Batch    4/13   train_loss = 1.990\n",
      "Epoch  44 Batch    7/13   train_loss = 1.989\n",
      "Epoch  44 Batch   10/13   train_loss = 1.986\n",
      "Epoch  45 Batch    0/13   train_loss = 1.964\n",
      "Epoch  45 Batch    3/13   train_loss = 1.965\n",
      "Epoch  45 Batch    6/13   train_loss = 1.969\n",
      "Epoch  45 Batch    9/13   train_loss = 2.008\n",
      "Epoch  45 Batch   12/13   train_loss = 1.971\n",
      "Epoch  46 Batch    2/13   train_loss = 1.965\n",
      "Epoch  46 Batch    5/13   train_loss = 1.936\n",
      "Epoch  46 Batch    8/13   train_loss = 1.913\n",
      "Epoch  46 Batch   11/13   train_loss = 1.916\n",
      "Epoch  47 Batch    1/13   train_loss = 1.893\n",
      "Epoch  47 Batch    4/13   train_loss = 1.877\n",
      "Epoch  47 Batch    7/13   train_loss = 1.856\n",
      "Epoch  47 Batch   10/13   train_loss = 1.862\n",
      "Epoch  48 Batch    0/13   train_loss = 1.841\n",
      "Epoch  48 Batch    3/13   train_loss = 1.835\n",
      "Epoch  48 Batch    6/13   train_loss = 1.857\n",
      "Epoch  48 Batch    9/13   train_loss = 1.882\n",
      "Epoch  48 Batch   12/13   train_loss = 1.855\n",
      "Epoch  49 Batch    2/13   train_loss = 1.844\n",
      "Epoch  49 Batch    5/13   train_loss = 1.811\n",
      "Epoch  49 Batch    8/13   train_loss = 1.803\n",
      "Epoch  49 Batch   11/13   train_loss = 1.794\n",
      "Epoch  50 Batch    1/13   train_loss = 1.781\n",
      "Epoch  50 Batch    4/13   train_loss = 1.760\n",
      "Epoch  50 Batch    7/13   train_loss = 1.742\n",
      "Epoch  50 Batch   10/13   train_loss = 1.744\n",
      "Epoch  51 Batch    0/13   train_loss = 1.731\n",
      "Epoch  51 Batch    3/13   train_loss = 1.719\n",
      "Epoch  51 Batch    6/13   train_loss = 1.753\n",
      "Epoch  51 Batch    9/13   train_loss = 1.763\n",
      "Epoch  51 Batch   12/13   train_loss = 1.749\n",
      "Epoch  52 Batch    2/13   train_loss = 1.736\n",
      "Epoch  52 Batch    5/13   train_loss = 1.705\n",
      "Epoch  52 Batch    8/13   train_loss = 1.700\n",
      "Epoch  52 Batch   11/13   train_loss = 1.683\n",
      "Epoch  53 Batch    1/13   train_loss = 1.676\n",
      "Epoch  53 Batch    4/13   train_loss = 1.653\n",
      "Epoch  53 Batch    7/13   train_loss = 1.642\n",
      "Epoch  53 Batch   10/13   train_loss = 1.645\n",
      "Epoch  54 Batch    0/13   train_loss = 1.631\n",
      "Epoch  54 Batch    3/13   train_loss = 1.625\n",
      "Epoch  54 Batch    6/13   train_loss = 1.647\n",
      "Epoch  54 Batch    9/13   train_loss = 1.672\n",
      "Epoch  54 Batch   12/13   train_loss = 1.643\n",
      "Epoch  55 Batch    2/13   train_loss = 1.646\n",
      "Epoch  55 Batch    5/13   train_loss = 1.610\n",
      "Epoch  55 Batch    8/13   train_loss = 1.605\n",
      "Epoch  55 Batch   11/13   train_loss = 1.598\n",
      "Epoch  56 Batch    1/13   train_loss = 1.579\n",
      "Epoch  56 Batch    4/13   train_loss = 1.579\n",
      "Epoch  56 Batch    7/13   train_loss = 1.550\n",
      "Epoch  56 Batch   10/13   train_loss = 1.561\n",
      "Epoch  57 Batch    0/13   train_loss = 1.547\n",
      "Epoch  57 Batch    3/13   train_loss = 1.534\n",
      "Epoch  57 Batch    6/13   train_loss = 1.579\n",
      "Epoch  57 Batch    9/13   train_loss = 1.572\n",
      "Epoch  57 Batch   12/13   train_loss = 1.574\n",
      "Epoch  58 Batch    2/13   train_loss = 1.549\n",
      "Epoch  58 Batch    5/13   train_loss = 1.529\n",
      "Epoch  58 Batch    8/13   train_loss = 1.532\n",
      "Epoch  58 Batch   11/13   train_loss = 1.505\n",
      "Epoch  59 Batch    1/13   train_loss = 1.521\n",
      "Epoch  59 Batch    4/13   train_loss = 1.477\n",
      "Epoch  59 Batch    7/13   train_loss = 1.482\n",
      "Epoch  59 Batch   10/13   train_loss = 1.470\n",
      "Epoch  60 Batch    0/13   train_loss = 1.461\n",
      "Epoch  60 Batch    3/13   train_loss = 1.468\n",
      "Epoch  60 Batch    6/13   train_loss = 1.488\n",
      "Epoch  60 Batch    9/13   train_loss = 1.504\n",
      "Epoch  60 Batch   12/13   train_loss = 1.484\n",
      "Epoch  61 Batch    2/13   train_loss = 1.481\n",
      "Epoch  61 Batch    5/13   train_loss = 1.446\n",
      "Epoch  61 Batch    8/13   train_loss = 1.454\n",
      "Epoch  61 Batch   11/13   train_loss = 1.431\n",
      "Epoch  62 Batch    1/13   train_loss = 1.437\n",
      "Epoch  62 Batch    4/13   train_loss = 1.405\n",
      "Epoch  62 Batch    7/13   train_loss = 1.404\n",
      "Epoch  62 Batch   10/13   train_loss = 1.396\n",
      "Epoch  63 Batch    0/13   train_loss = 1.389\n",
      "Epoch  63 Batch    3/13   train_loss = 1.396\n",
      "Epoch  63 Batch    6/13   train_loss = 1.410\n",
      "Epoch  63 Batch    9/13   train_loss = 1.433\n",
      "Epoch  63 Batch   12/13   train_loss = 1.408\n",
      "Epoch  64 Batch    2/13   train_loss = 1.415\n",
      "Epoch  64 Batch    5/13   train_loss = 1.383\n",
      "Epoch  64 Batch    8/13   train_loss = 1.385\n",
      "Epoch  64 Batch   11/13   train_loss = 1.374\n",
      "Epoch  65 Batch    1/13   train_loss = 1.370\n",
      "Epoch  65 Batch    4/13   train_loss = 1.353\n",
      "Epoch  65 Batch    7/13   train_loss = 1.334\n",
      "Epoch  65 Batch   10/13   train_loss = 1.341\n",
      "Epoch  66 Batch    0/13   train_loss = 1.322\n",
      "Epoch  66 Batch    3/13   train_loss = 1.338\n",
      "Epoch  66 Batch    6/13   train_loss = 1.352\n",
      "Epoch  66 Batch    9/13   train_loss = 1.364\n",
      "Epoch  66 Batch   12/13   train_loss = 1.360\n",
      "Epoch  67 Batch    2/13   train_loss = 1.346\n",
      "Epoch  67 Batch    5/13   train_loss = 1.335\n",
      "Epoch  67 Batch    8/13   train_loss = 1.321\n",
      "Epoch  67 Batch   11/13   train_loss = 1.316\n",
      "Epoch  68 Batch    1/13   train_loss = 1.312\n",
      "Epoch  68 Batch    4/13   train_loss = 1.291\n",
      "Epoch  68 Batch    7/13   train_loss = 1.284\n",
      "Epoch  68 Batch   10/13   train_loss = 1.269\n",
      "Epoch  69 Batch    0/13   train_loss = 1.262\n",
      "Epoch  69 Batch    3/13   train_loss = 1.272\n",
      "Epoch  69 Batch    6/13   train_loss = 1.298\n",
      "Epoch  69 Batch    9/13   train_loss = 1.298\n",
      "Epoch  69 Batch   12/13   train_loss = 1.292\n",
      "Epoch  70 Batch    2/13   train_loss = 1.283\n",
      "Epoch  70 Batch    5/13   train_loss = 1.263\n",
      "Epoch  70 Batch    8/13   train_loss = 1.272\n",
      "Epoch  70 Batch   11/13   train_loss = 1.242\n",
      "Epoch  71 Batch    1/13   train_loss = 1.253\n",
      "Epoch  71 Batch    4/13   train_loss = 1.223\n",
      "Epoch  71 Batch    7/13   train_loss = 1.222\n",
      "Epoch  71 Batch   10/13   train_loss = 1.213\n",
      "Epoch  72 Batch    0/13   train_loss = 1.197\n",
      "Epoch  72 Batch    3/13   train_loss = 1.219\n",
      "Epoch  72 Batch    6/13   train_loss = 1.225\n",
      "Epoch  72 Batch    9/13   train_loss = 1.240\n",
      "Epoch  72 Batch   12/13   train_loss = 1.229\n",
      "Epoch  73 Batch    2/13   train_loss = 1.220\n",
      "Epoch  73 Batch    5/13   train_loss = 1.212\n",
      "Epoch  73 Batch    8/13   train_loss = 1.206\n",
      "Epoch  73 Batch   11/13   train_loss = 1.197\n",
      "Epoch  74 Batch    1/13   train_loss = 1.191\n",
      "Epoch  74 Batch    4/13   train_loss = 1.171\n",
      "Epoch  74 Batch    7/13   train_loss = 1.168\n",
      "Epoch  74 Batch   10/13   train_loss = 1.160\n",
      "Epoch  75 Batch    0/13   train_loss = 1.153\n",
      "Epoch  75 Batch    3/13   train_loss = 1.162\n",
      "Epoch  75 Batch    6/13   train_loss = 1.178\n",
      "Epoch  75 Batch    9/13   train_loss = 1.190\n",
      "Epoch  75 Batch   12/13   train_loss = 1.181\n",
      "Epoch  76 Batch    2/13   train_loss = 1.178\n",
      "Epoch  76 Batch    5/13   train_loss = 1.159\n",
      "Epoch  76 Batch    8/13   train_loss = 1.164\n",
      "Epoch  76 Batch   11/13   train_loss = 1.156\n",
      "Epoch  77 Batch    1/13   train_loss = 1.144\n",
      "Epoch  77 Batch    4/13   train_loss = 1.138\n",
      "Epoch  77 Batch    7/13   train_loss = 1.116\n",
      "Epoch  77 Batch   10/13   train_loss = 1.122\n",
      "Epoch  78 Batch    0/13   train_loss = 1.105\n",
      "Epoch  78 Batch    3/13   train_loss = 1.122\n",
      "Epoch  78 Batch    6/13   train_loss = 1.142\n",
      "Epoch  78 Batch    9/13   train_loss = 1.143\n",
      "Epoch  78 Batch   12/13   train_loss = 1.150\n",
      "Epoch  79 Batch    2/13   train_loss = 1.131\n",
      "Epoch  79 Batch    5/13   train_loss = 1.129\n",
      "Epoch  79 Batch    8/13   train_loss = 1.126\n",
      "Epoch  79 Batch   11/13   train_loss = 1.120\n",
      "Epoch  80 Batch    1/13   train_loss = 1.108\n",
      "Epoch  80 Batch    4/13   train_loss = 1.100\n",
      "Epoch  80 Batch    7/13   train_loss = 1.083\n",
      "Epoch  80 Batch   10/13   train_loss = 1.085\n",
      "Epoch  81 Batch    0/13   train_loss = 1.075\n",
      "Epoch  81 Batch    3/13   train_loss = 1.082\n",
      "Epoch  81 Batch    6/13   train_loss = 1.111\n",
      "Epoch  81 Batch    9/13   train_loss = 1.104\n",
      "Epoch  81 Batch   12/13   train_loss = 1.126\n",
      "Epoch  82 Batch    2/13   train_loss = 1.095\n",
      "Epoch  82 Batch    5/13   train_loss = 1.107\n",
      "Epoch  82 Batch    8/13   train_loss = 1.093\n",
      "Epoch  82 Batch   11/13   train_loss = 1.094\n",
      "Epoch  83 Batch    1/13   train_loss = 1.090\n",
      "Epoch  83 Batch    4/13   train_loss = 1.064\n",
      "Epoch  83 Batch    7/13   train_loss = 1.073\n",
      "Epoch  83 Batch   10/13   train_loss = 1.057\n",
      "Epoch  84 Batch    0/13   train_loss = 1.070\n",
      "Epoch  84 Batch    3/13   train_loss = 1.060\n",
      "Epoch  84 Batch    6/13   train_loss = 1.111\n",
      "Epoch  84 Batch    9/13   train_loss = 1.080\n",
      "Epoch  84 Batch   12/13   train_loss = 1.122\n",
      "Epoch  85 Batch    2/13   train_loss = 1.110\n",
      "Epoch  85 Batch    5/13   train_loss = 1.082\n",
      "Epoch  85 Batch    8/13   train_loss = 1.128\n",
      "Epoch  85 Batch   11/13   train_loss = 1.075\n",
      "Epoch  86 Batch    1/13   train_loss = 1.134\n",
      "Epoch  86 Batch    4/13   train_loss = 1.067\n",
      "Epoch  86 Batch    7/13   train_loss = 1.095\n",
      "Epoch  86 Batch   10/13   train_loss = 1.078\n",
      "Epoch  87 Batch    0/13   train_loss = 1.084\n",
      "Epoch  87 Batch    3/13   train_loss = 1.170\n",
      "Epoch  87 Batch    6/13   train_loss = 1.095\n",
      "Epoch  87 Batch    9/13   train_loss = 1.216\n",
      "Epoch  87 Batch   12/13   train_loss = 1.108\n",
      "Epoch  88 Batch    2/13   train_loss = 1.182\n",
      "Epoch  88 Batch    5/13   train_loss = 1.207\n",
      "Epoch  88 Batch    8/13   train_loss = 1.097\n",
      "Epoch  88 Batch   11/13   train_loss = 1.193\n",
      "Epoch  89 Batch    1/13   train_loss = 1.093\n",
      "Epoch  89 Batch    4/13   train_loss = 1.082\n",
      "Epoch  89 Batch    7/13   train_loss = 1.125\n",
      "Epoch  89 Batch   10/13   train_loss = 1.033\n",
      "Epoch  90 Batch    0/13   train_loss = 1.038\n",
      "Epoch  90 Batch    3/13   train_loss = 1.047\n",
      "Epoch  90 Batch    6/13   train_loss = 1.034\n",
      "Epoch  90 Batch    9/13   train_loss = 1.040\n",
      "Epoch  90 Batch   12/13   train_loss = 1.038\n",
      "Epoch  91 Batch    2/13   train_loss = 1.021\n",
      "Epoch  91 Batch    5/13   train_loss = 1.015\n",
      "Epoch  91 Batch    8/13   train_loss = 1.012\n",
      "Epoch  91 Batch   11/13   train_loss = 1.002\n",
      "Epoch  92 Batch    1/13   train_loss = 1.000\n",
      "Epoch  92 Batch    4/13   train_loss = 0.981\n",
      "Epoch  92 Batch    7/13   train_loss = 0.972\n",
      "Epoch  92 Batch   10/13   train_loss = 0.968\n",
      "Epoch  93 Batch    0/13   train_loss = 0.958\n",
      "Epoch  93 Batch    3/13   train_loss = 0.974\n",
      "Epoch  93 Batch    6/13   train_loss = 0.983\n",
      "Epoch  93 Batch    9/13   train_loss = 0.991\n",
      "Epoch  93 Batch   12/13   train_loss = 0.997\n",
      "Epoch  94 Batch    2/13   train_loss = 0.982\n",
      "Epoch  94 Batch    5/13   train_loss = 0.982\n",
      "Epoch  94 Batch    8/13   train_loss = 0.979\n",
      "Epoch  94 Batch   11/13   train_loss = 0.972\n",
      "Epoch  95 Batch    1/13   train_loss = 0.973\n",
      "Epoch  95 Batch    4/13   train_loss = 0.954\n",
      "Epoch  95 Batch    7/13   train_loss = 0.944\n",
      "Epoch  95 Batch   10/13   train_loss = 0.944\n",
      "Epoch  96 Batch    0/13   train_loss = 0.932\n",
      "Epoch  96 Batch    3/13   train_loss = 0.950\n",
      "Epoch  96 Batch    6/13   train_loss = 0.958\n",
      "Epoch  96 Batch    9/13   train_loss = 0.968\n",
      "Epoch  96 Batch   12/13   train_loss = 0.974\n",
      "Epoch  97 Batch    2/13   train_loss = 0.959\n",
      "Epoch  97 Batch    5/13   train_loss = 0.961\n",
      "Epoch  97 Batch    8/13   train_loss = 0.958\n",
      "Epoch  97 Batch   11/13   train_loss = 0.951\n",
      "Epoch  98 Batch    1/13   train_loss = 0.953\n",
      "Epoch  98 Batch    4/13   train_loss = 0.934\n",
      "Epoch  98 Batch    7/13   train_loss = 0.924\n",
      "Epoch  98 Batch   10/13   train_loss = 0.925\n",
      "Epoch  99 Batch    0/13   train_loss = 0.913\n",
      "Epoch  99 Batch    3/13   train_loss = 0.931\n",
      "Epoch  99 Batch    6/13   train_loss = 0.937\n",
      "Epoch  99 Batch    9/13   train_loss = 0.949\n",
      "Epoch  99 Batch   12/13   train_loss = 0.955\n",
      "Model Trained and Saved\n"
     ]
    }
   ],
   "source": [
    "\"\"\"\n",
    "DON'T MODIFY ANYTHING IN THIS CELL\n",
    "\"\"\"\n",
    "batches = get_batches(int_text, batch_size, seq_length)\n",
    "print(num_epochs)\n",
    "with tf.Session(graph=train_graph) as sess:\n",
    "    sess.run(tf.global_variables_initializer())\n",
    "\n",
    "    for epoch_i in range(num_epochs):\n",
    "        state = sess.run(initial_state, {input_text: batches[0][0]})\n",
    "\n",
    "        for batch_i, (x, y) in enumerate(batches):\n",
    "            feed = {\n",
    "                input_text: x,\n",
    "                targets: y,\n",
    "                initial_state: state,\n",
    "                lr: learning_rate}\n",
    "            train_loss, state, _ = sess.run([cost, final_state, train_op], feed)\n",
    "\n",
    "            # Show every <show_every_n_batches> batches\n",
    "            if (epoch_i * len(batches) + batch_i) % show_every_n_batches == 0:\n",
    "                print('Epoch {:>3} Batch {:>4}/{}   train_loss = {:.3f}'.format(\n",
    "                    epoch_i,\n",
    "                    batch_i,\n",
    "                    len(batches),\n",
    "                    train_loss))\n",
    "\n",
    "    # Save Model\n",
    "    saver = tf.train.Saver()\n",
    "    saver.save(sess, save_dir)\n",
    "    print('Model Trained and Saved')"
   ]
  },
  {
   "cell_type": "markdown",
   "metadata": {
    "deletable": true,
    "editable": true
   },
   "source": [
    "## Save Parameters\n",
    "Save `seq_length` and `save_dir` for generating a new TV script."
   ]
  },
  {
   "cell_type": "code",
   "execution_count": 52,
   "metadata": {
    "collapsed": false,
    "deletable": true,
    "editable": true
   },
   "outputs": [],
   "source": [
    "\"\"\"\n",
    "DON'T MODIFY ANYTHING IN THIS CELL\n",
    "\"\"\"\n",
    "# Save parameters for checkpoint\n",
    "helper.save_params((seq_length, save_dir))"
   ]
  },
  {
   "cell_type": "markdown",
   "metadata": {
    "deletable": true,
    "editable": true
   },
   "source": [
    "# Checkpoint"
   ]
  },
  {
   "cell_type": "code",
   "execution_count": 53,
   "metadata": {
    "collapsed": false,
    "deletable": true,
    "editable": true
   },
   "outputs": [],
   "source": [
    "\"\"\"\n",
    "DON'T MODIFY ANYTHING IN THIS CELL\n",
    "\"\"\"\n",
    "import tensorflow as tf\n",
    "import numpy as np\n",
    "import helper\n",
    "import problem_unittests as tests\n",
    "\n",
    "_, vocab_to_int, int_to_vocab, token_dict = helper.load_preprocess()\n",
    "seq_length, load_dir = helper.load_params()"
   ]
  },
  {
   "cell_type": "markdown",
   "metadata": {
    "deletable": true,
    "editable": true
   },
   "source": [
    "## Implement Generate Functions\n",
    "### Get Tensors\n",
    "Get tensors from `loaded_graph` using the function [`get_tensor_by_name()`](https://www.tensorflow.org/api_docs/python/tf/Graph#get_tensor_by_name).  Get the tensors using the following names:\n",
    "- \"input:0\"\n",
    "- \"initial_state:0\"\n",
    "- \"final_state:0\"\n",
    "- \"probs:0\"\n",
    "\n",
    "Return the tensors in the following tuple `(InputTensor, InitialStateTensor, FinalStateTensor, ProbsTensor)` "
   ]
  },
  {
   "cell_type": "code",
   "execution_count": 54,
   "metadata": {
    "collapsed": false,
    "deletable": true,
    "editable": true
   },
   "outputs": [
    {
     "name": "stdout",
     "output_type": "stream",
     "text": [
      "Tests Passed\n"
     ]
    }
   ],
   "source": [
    "def get_tensors(loaded_graph):\n",
    "    \"\"\"\n",
    "    Get input, initial state, final state, and probabilities tensor from <loaded_graph>\n",
    "    :param loaded_graph: TensorFlow graph loaded from file\n",
    "    :return: Tuple (InputTensor, InitialStateTensor, FinalStateTensor, ProbsTensor)\n",
    "    \"\"\"\n",
    "    # TODO: Implement Function\n",
    "    return     loaded_graph.get_tensor_by_name(\"input:0\"),loaded_graph.get_tensor_by_name(\"initial_state:0\"), loaded_graph.get_tensor_by_name(\"final_state:0\"),loaded_graph.get_tensor_by_name(\"probs:0\")\n",
    "\n",
    "\n",
    "\n",
    "\"\"\"\n",
    "DON'T MODIFY ANYTHING IN THIS CELL THAT IS BELOW THIS LINE\n",
    "\"\"\"\n",
    "tests.test_get_tensors(get_tensors)"
   ]
  },
  {
   "cell_type": "markdown",
   "metadata": {
    "deletable": true,
    "editable": true
   },
   "source": [
    "### Choose Word\n",
    "Implement the `pick_word()` function to select the next word using `probabilities`."
   ]
  },
  {
   "cell_type": "code",
   "execution_count": 55,
   "metadata": {
    "collapsed": false,
    "deletable": true,
    "editable": true
   },
   "outputs": [
    {
     "name": "stdout",
     "output_type": "stream",
     "text": [
      "Tests Passed\n"
     ]
    }
   ],
   "source": [
    "def pick_word(probabilities, int_to_vocab):\n",
    "    \"\"\"\n",
    "    Pick the next word in the generated text\n",
    "    :param probabilities: Probabilites of the next word\n",
    "    :param int_to_vocab: Dictionary of word ids as the keys and words as the values\n",
    "    :return: String of the predicted word\n",
    "    \"\"\"\n",
    "    \n",
    "    # TODO: Implement Function\n",
    "    return np.random.choice(list(int_to_vocab.values()),p=probabilities)\n",
    "\n",
    "\n",
    "\"\"\"\n",
    "DON'T MODIFY ANYTHING IN THIS CELL THAT IS BELOW THIS LINE\n",
    "\"\"\"\n",
    "tests.test_pick_word(pick_word)"
   ]
  },
  {
   "cell_type": "markdown",
   "metadata": {
    "deletable": true,
    "editable": true
   },
   "source": [
    "## Generate TV Script\n",
    "This will generate the TV script for you.  Set `gen_length` to the length of TV script you want to generate."
   ]
  },
  {
   "cell_type": "code",
   "execution_count": 56,
   "metadata": {
    "collapsed": false,
    "deletable": true,
    "editable": true
   },
   "outputs": [
    {
     "name": "stdout",
     "output_type": "stream",
     "text": [
      "moe_szyslak: well gee, i've always tell this high.\n",
      "barney_gumble: i see / homer!\n",
      "\n",
      "\n",
      "carl_carlson: hey, anybody far would make.\n",
      "collette: no, i, we've been better with my best friends!(still got big idea) / my only wants to break up a most.\n",
      "moe_szyslak: aw, c'mon. it's called a flaming.\"\n",
      "moe_szyslak: hey, thanks.\n",
      "marge_simpson: not out of five.\n",
      "moe_szyslak:.. the point is gonna be a girl scout(looking for a while) you know your name, moe!\n",
      "moe_szyslak: yeah, nice, how can i do they.\n",
      "patty_bouvier: this is very kind of a nice and water.\n",
      "carl_carlson: you got to the yard--\n",
      "louie: this guy! i don't have to look. you for the chinese.\n",
      "stillwater: well, thank it for is you. where you done?\n",
      "\n",
      "\n",
      "moe_szyslak:(to him) hey, a meditative wouldn't give where to get youse? it's me! we haven't made any letter i love?\n",
      "\n"
     ]
    }
   ],
   "source": [
    "gen_length = 200\n",
    "# homer_simpson, moe_szyslak, or Barney_Gumble\n",
    "prime_word = 'moe_szyslak'\n",
    "\n",
    "\"\"\"\n",
    "DON'T MODIFY ANYTHING IN THIS CELL THAT IS BELOW THIS LINE\n",
    "\"\"\"\n",
    "loaded_graph = tf.Graph()\n",
    "with tf.Session(graph=loaded_graph) as sess:\n",
    "    # Load saved model\n",
    "    loader = tf.train.import_meta_graph(load_dir + '.meta')\n",
    "    loader.restore(sess, load_dir)\n",
    "\n",
    "    # Get Tensors from loaded model\n",
    "    input_text, initial_state, final_state, probs = get_tensors(loaded_graph)\n",
    "\n",
    "    # Sentences generation setup\n",
    "    gen_sentences = [prime_word + ':']\n",
    "    prev_state = sess.run(initial_state, {input_text: np.array([[1]])})\n",
    "\n",
    "    # Generate sentences\n",
    "    for n in range(gen_length):\n",
    "        # Dynamic Input\n",
    "        dyn_input = [[vocab_to_int[word] for word in gen_sentences[-seq_length:]]]\n",
    "        dyn_seq_length = len(dyn_input[0])\n",
    "\n",
    "        # Get Prediction\n",
    "        probabilities, prev_state = sess.run(\n",
    "            [probs, final_state],\n",
    "            {input_text: dyn_input, initial_state: prev_state})\n",
    "        \n",
    "        pred_word = pick_word(probabilities[dyn_seq_length-1], int_to_vocab)\n",
    "\n",
    "        gen_sentences.append(pred_word)\n",
    "    \n",
    "    # Remove tokens\n",
    "    tv_script = ' '.join(gen_sentences)\n",
    "    for key, token in token_dict.items():\n",
    "        ending = ' ' if key in ['\\n', '(', '\"'] else ''\n",
    "        tv_script = tv_script.replace(' ' + token.lower(), key)\n",
    "    tv_script = tv_script.replace('\\n ', '\\n')\n",
    "    tv_script = tv_script.replace('( ', '(')\n",
    "        \n",
    "    print(tv_script)"
   ]
  },
  {
   "cell_type": "markdown",
   "metadata": {
    "deletable": true,
    "editable": true
   },
   "source": [
    "# The TV Script is Nonsensical\n",
    "It's ok if the TV script doesn't make any sense.  We trained on less than a megabyte of text.  In order to get good results, you'll have to use a smaller vocabulary or get more data.  Luckly there's more data!  As we mentioned in the begging of this project, this is a subset of [another dataset](https://www.kaggle.com/wcukierski/the-simpsons-by-the-data).  We didn't have you train on all the data, because that would take too long.  However, you are free to train your neural network on all the data.  After you complete the project, of course.\n",
    "# Submitting This Project\n",
    "When submitting this project, make sure to run all the cells before saving the notebook. Save the notebook file as \"dlnd_tv_script_generation.ipynb\" and save it as a HTML file under \"File\" -> \"Download as\". Include the \"helper.py\" and \"problem_unittests.py\" files in your submission."
   ]
  }
 ],
 "metadata": {
  "kernelspec": {
   "display_name": "Python 3",
   "language": "python",
   "name": "python3"
  },
  "language_info": {
   "codemirror_mode": {
    "name": "ipython",
    "version": 3
   },
   "file_extension": ".py",
   "mimetype": "text/x-python",
   "name": "python",
   "nbconvert_exporter": "python",
   "pygments_lexer": "ipython3",
   "version": "3.5.2"
  },
  "widgets": {
   "state": {},
   "version": "1.1.2"
  }
 },
 "nbformat": 4,
 "nbformat_minor": 0
}
